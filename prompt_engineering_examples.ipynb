{
  "nbformat": 4,
  "nbformat_minor": 0,
  "metadata": {
    "colab": {
      "provenance": []
    },
    "kernelspec": {
      "name": "python3",
      "display_name": "Python 3"
    },
    "language_info": {
      "name": "python"
    }
  },
  "cells": [
    {
      "cell_type": "code",
      "execution_count": 3,
      "metadata": {
        "colab": {
          "base_uri": "https://localhost:8080/"
        },
        "id": "57OvA7x7lowq",
        "outputId": "2cc44ca8-25db-4daa-f148-b95a8019e5ef"
      },
      "outputs": [
        {
          "output_type": "stream",
          "name": "stdout",
          "text": [
            "Installing collected packages: langchain\n",
            "Successfully installed langchain-0.1.6\n"
          ]
        }
      ],
      "source": [
        "!pip install langchain==0.1.6"
      ]
    },
    {
      "cell_type": "markdown",
      "source": [
        "**Example 1**"
      ],
      "metadata": {
        "id": "93AZ4FyvmMqb"
      }
    },
    {
      "cell_type": "code",
      "source": [
        "from langchain import PromptTemplate"
      ],
      "metadata": {
        "id": "zFobG6uzlumE"
      },
      "execution_count": 5,
      "outputs": []
    },
    {
      "cell_type": "code",
      "source": [
        "template1 = \"Act as an electronics engineer. Explain the basics of {components}.\"\n",
        "prompt1 = PromptTemplate( input_variables = [\"components\"], template = template1)\n",
        "prompt1.format(components = \"resister\")"
      ],
      "metadata": {
        "colab": {
          "base_uri": "https://localhost:8080/",
          "height": 36
        },
        "id": "tLZuV7e-lurA",
        "outputId": "c612d8d7-c2a0-4a03-e8c4-417a26fa39db"
      },
      "execution_count": 8,
      "outputs": [
        {
          "output_type": "execute_result",
          "data": {
            "text/plain": [
              "'Act as an electronics engineer. Explain the basics of resister.'"
            ],
            "application/vnd.google.colaboratory.intrinsic+json": {
              "type": "string"
            }
          },
          "metadata": {},
          "execution_count": 8
        }
      ]
    },
    {
      "cell_type": "markdown",
      "source": [
        "**Example 2**"
      ],
      "metadata": {
        "id": "AnQAl1MKnM_0"
      }
    },
    {
      "cell_type": "code",
      "source": [
        "from langchain import PromptTemplate"
      ],
      "metadata": {
        "id": "aO069KTUluvp"
      },
      "execution_count": 9,
      "outputs": []
    },
    {
      "cell_type": "code",
      "source": [
        "template2 = \"Convert the given sentence from {source_lang} to {target_lang}. Sentence: {sentence}\"\n",
        "prompt2 = PromptTemplate( input_variables = [\"source_lang\", \"target_lang\", \"sentence\"], template = template2)\n",
        "prompt2.format(source_lang = \"english\", target_lang = \"tamil\", sentence = \"How are you?\")"
      ],
      "metadata": {
        "colab": {
          "base_uri": "https://localhost:8080/",
          "height": 36
        },
        "id": "x2DdHHjIlu0e",
        "outputId": "d0c9c89c-b4c4-46b5-acff-7bb6fff705a5"
      },
      "execution_count": 12,
      "outputs": [
        {
          "output_type": "execute_result",
          "data": {
            "text/plain": [
              "'Convert the given sentence from english to tamil. Sentence: How are you?'"
            ],
            "application/vnd.google.colaboratory.intrinsic+json": {
              "type": "string"
            }
          },
          "metadata": {},
          "execution_count": 12
        }
      ]
    },
    {
      "cell_type": "markdown",
      "source": [
        "**Example 3**"
      ],
      "metadata": {
        "id": "jlfVKLFcoUPd"
      }
    },
    {
      "cell_type": "code",
      "source": [
        "from langchain import PromptTemplate, FewShotPromptTemplate"
      ],
      "metadata": {
        "id": "svZE-35moJv6"
      },
      "execution_count": 55,
      "outputs": []
    },
    {
      "cell_type": "code",
      "source": [
        "few_shot_examples = [\n",
        "    {\"american\" : \"Color\", \"british\" : \"Colour\"},\n",
        "    {\"american\" : \"Organization\", \"british\" : \"Organisation\"},\n",
        "    {\"american\" : \"Apartment\", \"british\" : \"Flat\"}]"
      ],
      "metadata": {
        "id": "giQWy6gpoWrS"
      },
      "execution_count": 56,
      "outputs": []
    },
    {
      "cell_type": "code",
      "source": [
        "example_formatter_template = \"\"\"\n",
        "american: {american}\n",
        "british: {british}\n",
        "\"\"\""
      ],
      "metadata": {
        "id": "2MDU6Y1MpX1S"
      },
      "execution_count": 57,
      "outputs": []
    },
    {
      "cell_type": "code",
      "source": [
        "prompt3 = PromptTemplate(\n",
        "    input_variables = [\"american\", \"british\"],\n",
        "    template = example_formatter_template,\n",
        ")"
      ],
      "metadata": {
        "id": "0XUv3JYTpX6F"
      },
      "execution_count": 58,
      "outputs": []
    },
    {
      "cell_type": "code",
      "source": [
        "few_shot_prompt = FewShotPromptTemplate(\n",
        "    # These are the examples we want to insert into the prompt.\n",
        "    examples = few_shot_examples,\n",
        "\n",
        "    # This is how we want to format the examples when we insert them into the prompt.\n",
        "    example_prompt = prompt3,\n",
        "\n",
        "    # The prefix is some text that goes before the examples in the prompt.\n",
        "    # Usually, this consists of instructions.\n",
        "    prefix = \"Convert American english of every input into British english\\n\",\n",
        "\n",
        "    # The suffix is some text that goes after the examples in the prompt.\n",
        "    # Usually, this is where the user input will go\n",
        "    suffix = \"\\namerican: {input}\\nbritish: \",\n",
        "\n",
        "    # The input variables are the variables that the overall prompt expects.\n",
        "    input_variables = [\"input\"],\n",
        "\n",
        "    # The example_separator is the string we will use to join the prefix, examples, and suffix together with.\n",
        "    example_separator = \"-\",\n",
        ")"
      ],
      "metadata": {
        "id": "ozPbu88PpuJs"
      },
      "execution_count": 59,
      "outputs": []
    },
    {
      "cell_type": "code",
      "source": [
        "print(few_shot_prompt.format(input = \"Elevator\")) # Tap"
      ],
      "metadata": {
        "colab": {
          "base_uri": "https://localhost:8080/"
        },
        "id": "j1I63IggrCdg",
        "outputId": "86976f9a-8029-40aa-a00c-0318893433c4"
      },
      "execution_count": 60,
      "outputs": [
        {
          "output_type": "stream",
          "name": "stdout",
          "text": [
            "Convert American english of every input into British english\n",
            "-\n",
            "american: Color\n",
            "british: Colour\n",
            "-\n",
            "american: Organization\n",
            "british: Organisation\n",
            "-\n",
            "american: Apartment\n",
            "british: Flat\n",
            "-\n",
            "american: Elevator\n",
            "british: \n"
          ]
        }
      ]
    },
    {
      "cell_type": "code",
      "source": [],
      "metadata": {
        "id": "_XnKuQHnoW9t"
      },
      "execution_count": 60,
      "outputs": []
    },
    {
      "cell_type": "markdown",
      "source": [
        "**Run the prompt**"
      ],
      "metadata": {
        "id": "noQW28OXtFUF"
      }
    },
    {
      "cell_type": "code",
      "source": [
        "from langchain.llms import OpenAI\n",
        "from langchain.chains import LLMChain"
      ],
      "metadata": {
        "id": "XRcv-H-ltTqP"
      },
      "execution_count": null,
      "outputs": []
    },
    {
      "cell_type": "code",
      "source": [
        "llm=OpenAI(temperature=0.7)\n",
        "chain = LLMChain( llm = llm, prompt = prompt)\n",
        "chain({'input':\"xxx\"})"
      ],
      "metadata": {
        "id": "Mo-ySwv6tH4I"
      },
      "execution_count": null,
      "outputs": []
    }
  ]
}